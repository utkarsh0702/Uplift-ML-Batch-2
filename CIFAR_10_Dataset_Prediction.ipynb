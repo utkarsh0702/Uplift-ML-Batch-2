{
  "nbformat": 4,
  "nbformat_minor": 0,
  "metadata": {
    "colab": {
      "name": "CIFAR-10 Dataset Prediction.ipynb",
      "provenance": [],
      "collapsed_sections": []
    },
    "kernelspec": {
      "name": "python3",
      "display_name": "Python 3"
    },
    "language_info": {
      "name": "python"
    },
    "accelerator": "GPU"
  },
  "cells": [
    {
      "cell_type": "code",
      "metadata": {
        "id": "Y92on_SBJDvh"
      },
      "source": [
        "import tensorflow as tf\n",
        "from tensorflow import keras\n",
        "import numpy as np\n",
        "import matplotlib.pyplot as plt\n",
        "import pandas as pd"
      ],
      "execution_count": 52,
      "outputs": []
    },
    {
      "cell_type": "markdown",
      "metadata": {
        "id": "bWnZBMjSKkII"
      },
      "source": [
        "### CIFAR-10 dataset"
      ]
    },
    {
      "cell_type": "code",
      "metadata": {
        "id": "1Km6nxmkJu6K"
      },
      "source": [
        "(x_train,y_train),(x_test,y_test) = keras.datasets.cifar10.load_data()"
      ],
      "execution_count": 33,
      "outputs": []
    },
    {
      "cell_type": "code",
      "metadata": {
        "colab": {
          "base_uri": "https://localhost:8080/"
        },
        "id": "2SdHR21OJ2dB",
        "outputId": "6ea56365-e929-4222-c256-edcaf44891df"
      },
      "source": [
        "print(x_train.shape)\n",
        "print(y_train.shape)\n",
        "print(x_test.shape)\n",
        "print(y_test.shape)"
      ],
      "execution_count": 34,
      "outputs": [
        {
          "output_type": "stream",
          "text": [
            "(50000, 32, 32, 3)\n",
            "(50000, 1)\n",
            "(10000, 32, 32, 3)\n",
            "(10000, 1)\n"
          ],
          "name": "stdout"
        }
      ]
    },
    {
      "cell_type": "code",
      "metadata": {
        "colab": {
          "base_uri": "https://localhost:8080/",
          "height": 283
        },
        "id": "K3DUVFAFKAAZ",
        "outputId": "e866e7ba-1f89-4971-ecf2-50c34ee5d46a"
      },
      "source": [
        "plt.imshow(x_train[11])"
      ],
      "execution_count": 35,
      "outputs": [
        {
          "output_type": "execute_result",
          "data": {
            "text/plain": [
              "<matplotlib.image.AxesImage at 0x7f19ac60d890>"
            ]
          },
          "metadata": {
            "tags": []
          },
          "execution_count": 35
        },
        {
          "output_type": "display_data",
          "data": {
            "image/png": "[encoded data removed]",
            "text/plain": [
              "<Figure size 432x288 with 1 Axes>"
            ]
          },
          "metadata": {
            "tags": [],
            "needs_background": "light"
          }
        }
      ]
    },
    {
      "cell_type": "code",
      "metadata": {
        "colab": {
          "base_uri": "https://localhost:8080/"
        },
        "id": "MvvTU1UzKW4R",
        "outputId": "1319430a-5012-4cf6-aae0-6760fdfeff0c"
      },
      "source": [
        "x_train[11]"
      ],
      "execution_count": 36,
      "outputs": [
        {
          "output_type": "execute_result",
          "data": {
            "text/plain": [
              "array([[[142, 149, 152],\n",
              "        [172, 172, 167],\n",
              "        [176, 168, 154],\n",
              "        ...,\n",
              "        [216, 212, 211],\n",
              "        [198, 194, 193],\n",
              "        [205, 202, 200]],\n",
              "\n",
              "       [[191, 190, 192],\n",
              "        [196, 192, 190],\n",
              "        [174, 166, 159],\n",
              "        ...,\n",
              "        [229, 222, 220],\n",
              "        [222, 215, 213],\n",
              "        [217, 210, 207]],\n",
              "\n",
              "       [[220, 212, 212],\n",
              "        [217, 209, 208],\n",
              "        [192, 183, 182],\n",
              "        ...,\n",
              "        [224, 214, 209],\n",
              "        [225, 214, 210],\n",
              "        [218, 208, 203]],\n",
              "\n",
              "       ...,\n",
              "\n",
              "       [[197, 152, 136],\n",
              "        [196, 152, 135],\n",
              "        [201, 156, 140],\n",
              "        ...,\n",
              "        [200, 165, 146],\n",
              "        [199, 165, 146],\n",
              "        [205, 164, 150]],\n",
              "\n",
              "       [[196, 157, 139],\n",
              "        [191, 152, 135],\n",
              "        [193, 154, 136],\n",
              "        ...,\n",
              "        [198, 164, 144],\n",
              "        [199, 165, 145],\n",
              "        [201, 161, 146]],\n",
              "\n",
              "       [[186, 150, 133],\n",
              "        [182, 147, 130],\n",
              "        [174, 139, 121],\n",
              "        ...,\n",
              "        [158, 124, 105],\n",
              "        [158, 125, 106],\n",
              "        [163, 125, 111]]], dtype=uint8)"
            ]
          },
          "metadata": {
            "tags": []
          },
          "execution_count": 36
        }
      ]
    },
    {
      "cell_type": "markdown",
      "metadata": {
        "id": "V6OChajvKoHx"
      },
      "source": [
        "### Data PreProcessing"
      ]
    },
    {
      "cell_type": "code",
      "metadata": {
        "id": "1w3SZ8teKH-h"
      },
      "source": [
        "# Normalization\n",
        "x_train = x_train/255\n",
        "x_test = x_test/255"
      ],
      "execution_count": 37,
      "outputs": []
    },
    {
      "cell_type": "code",
      "metadata": {
        "colab": {
          "base_uri": "https://localhost:8080/"
        },
        "id": "km1MfNT5Kbso",
        "outputId": "53d581eb-7c02-463d-9224-ad278d989516"
      },
      "source": [
        "x_train[11]"
      ],
      "execution_count": 38,
      "outputs": [
        {
          "output_type": "execute_result",
          "data": {
            "text/plain": [
              "array([[[0.55686275, 0.58431373, 0.59607843],\n",
              "        [0.6745098 , 0.6745098 , 0.65490196],\n",
              "        [0.69019608, 0.65882353, 0.60392157],\n",
              "        ...,\n",
              "        [0.84705882, 0.83137255, 0.82745098],\n",
              "        [0.77647059, 0.76078431, 0.75686275],\n",
              "        [0.80392157, 0.79215686, 0.78431373]],\n",
              "\n",
              "       [[0.74901961, 0.74509804, 0.75294118],\n",
              "        [0.76862745, 0.75294118, 0.74509804],\n",
              "        [0.68235294, 0.65098039, 0.62352941],\n",
              "        ...,\n",
              "        [0.89803922, 0.87058824, 0.8627451 ],\n",
              "        [0.87058824, 0.84313725, 0.83529412],\n",
              "        [0.85098039, 0.82352941, 0.81176471]],\n",
              "\n",
              "       [[0.8627451 , 0.83137255, 0.83137255],\n",
              "        [0.85098039, 0.81960784, 0.81568627],\n",
              "        [0.75294118, 0.71764706, 0.71372549],\n",
              "        ...,\n",
              "        [0.87843137, 0.83921569, 0.81960784],\n",
              "        [0.88235294, 0.83921569, 0.82352941],\n",
              "        [0.85490196, 0.81568627, 0.79607843]],\n",
              "\n",
              "       ...,\n",
              "\n",
              "       [[0.77254902, 0.59607843, 0.53333333],\n",
              "        [0.76862745, 0.59607843, 0.52941176],\n",
              "        [0.78823529, 0.61176471, 0.54901961],\n",
              "        ...,\n",
              "        [0.78431373, 0.64705882, 0.57254902],\n",
              "        [0.78039216, 0.64705882, 0.57254902],\n",
              "        [0.80392157, 0.64313725, 0.58823529]],\n",
              "\n",
              "       [[0.76862745, 0.61568627, 0.54509804],\n",
              "        [0.74901961, 0.59607843, 0.52941176],\n",
              "        [0.75686275, 0.60392157, 0.53333333],\n",
              "        ...,\n",
              "        [0.77647059, 0.64313725, 0.56470588],\n",
              "        [0.78039216, 0.64705882, 0.56862745],\n",
              "        [0.78823529, 0.63137255, 0.57254902]],\n",
              "\n",
              "       [[0.72941176, 0.58823529, 0.52156863],\n",
              "        [0.71372549, 0.57647059, 0.50980392],\n",
              "        [0.68235294, 0.54509804, 0.4745098 ],\n",
              "        ...,\n",
              "        [0.61960784, 0.48627451, 0.41176471],\n",
              "        [0.61960784, 0.49019608, 0.41568627],\n",
              "        [0.63921569, 0.49019608, 0.43529412]]])"
            ]
          },
          "metadata": {
            "tags": []
          },
          "execution_count": 38
        }
      ]
    },
    {
      "cell_type": "code",
      "metadata": {
        "colab": {
          "base_uri": "https://localhost:8080/"
        },
        "id": "wA4nq0YJLCW5",
        "outputId": "43757643-fe5e-4ea9-ee9f-1dc989c6d2e9"
      },
      "source": [
        "y_train[0]"
      ],
      "execution_count": 39,
      "outputs": [
        {
          "output_type": "execute_result",
          "data": {
            "text/plain": [
              "array([6], dtype=uint8)"
            ]
          },
          "metadata": {
            "tags": []
          },
          "execution_count": 39
        }
      ]
    },
    {
      "cell_type": "code",
      "metadata": {
        "id": "NwZiICjIKcWK"
      },
      "source": [
        "from tensorflow.keras.utils import to_categorical\n",
        "\n",
        "y_train = to_categorical(y_train,10)\n",
        "y_test = to_categorical(y_test,10)"
      ],
      "execution_count": 40,
      "outputs": []
    },
    {
      "cell_type": "code",
      "metadata": {
        "colab": {
          "base_uri": "https://localhost:8080/"
        },
        "id": "G6ag9aEPLI1p",
        "outputId": "44ff6916-2b13-46eb-9142-9d9b150c76be"
      },
      "source": [
        "y_train[0]"
      ],
      "execution_count": 41,
      "outputs": [
        {
          "output_type": "execute_result",
          "data": {
            "text/plain": [
              "array([0., 0., 0., 0., 0., 0., 1., 0., 0., 0.], dtype=float32)"
            ]
          },
          "metadata": {
            "tags": []
          },
          "execution_count": 41
        }
      ]
    },
    {
      "cell_type": "markdown",
      "metadata": {
        "id": "lfqEnEI2LQux"
      },
      "source": [
        "### Model Building"
      ]
    },
    {
      "cell_type": "code",
      "metadata": {
        "colab": {
          "base_uri": "https://localhost:8080/"
        },
        "id": "TZUhggqMLKuy",
        "outputId": "9802f43b-cc3a-4403-84db-4bc05c52ab44"
      },
      "source": [
        "model = keras.Sequential([\n",
        "                          keras.layers.Conv2D(32,(3,3),input_shape=(32,32,3),activation='relu'),\n",
        "                          keras.layers.MaxPool2D((2,2)),\n",
        "                          keras.layers.Conv2D(64,(3,3),activation='relu'),\n",
        "                          keras.layers.MaxPool2D(pool_size=(2,2)),\n",
        "                          keras.layers.Flatten(),\n",
        "                          keras.layers.Dense(256,activation='relu'),\n",
        "                          keras.layers.Dense(10,activation='softmax')\n",
        "])\n",
        "\n",
        "model.compile(loss='categorical_crossentropy',optimizer='adam',metrics=['accuracy'])\n",
        "\n",
        "model.summary()"
      ],
      "execution_count": 42,
      "outputs": [
        {
          "output_type": "stream",
          "text": [
            "Model: \"sequential_3\"\n",
            "_________________________________________________________________\n",
            "Layer (type)                 Output Shape              Param #   \n",
            "=================================================================\n",
            "conv2d_6 (Conv2D)            (None, 30, 30, 32)        896       \n",
            "_________________________________________________________________\n",
            "max_pooling2d_6 (MaxPooling2 (None, 15, 15, 32)        0         \n",
            "_________________________________________________________________\n",
            "conv2d_7 (Conv2D)            (None, 13, 13, 64)        18496     \n",
            "_________________________________________________________________\n",
            "max_pooling2d_7 (MaxPooling2 (None, 6, 6, 64)          0         \n",
            "_________________________________________________________________\n",
            "flatten_3 (Flatten)          (None, 2304)              0         \n",
            "_________________________________________________________________\n",
            "dense_6 (Dense)              (None, 256)               590080    \n",
            "_________________________________________________________________\n",
            "dense_7 (Dense)              (None, 10)                2570      \n",
            "=================================================================\n",
            "Total params: 612,042\n",
            "Trainable params: 612,042\n",
            "Non-trainable params: 0\n",
            "_________________________________________________________________\n"
          ],
          "name": "stdout"
        }
      ]
    },
    {
      "cell_type": "code",
      "metadata": {
        "id": "6D6pW9TyVjg0"
      },
      "source": [
        "from tensorflow.keras.preprocessing.image import ImageDataGenerator\n",
        "\n",
        "train_datagen= ImageDataGenerator(\n",
        "    shear_range = 0.2,\n",
        "    zoom_range = 0.2\n",
        ")\n",
        "train_gen= train_datagen.flow(x_train,y_train, batch_size=32)\n",
        "\n",
        "test_datagen= ImageDataGenerator(\n",
        "    shear_range = 0.2,\n",
        "    zoom_range = 0.2\n",
        ")\n",
        "train_gen= test_datagen.flow(x_test,y_test, batch_size=32)"
      ],
      "execution_count": 43,
      "outputs": []
    },
    {
      "cell_type": "code",
      "metadata": {
        "id": "FTpcS8UcMvBZ"
      },
      "source": [
        "from tensorflow.keras.callbacks import EarlyStopping\n",
        "\n",
        "early_stop = EarlyStopping(monitor='val_accuracy', patience=3, mode='max')"
      ],
      "execution_count": 44,
      "outputs": []
    },
    {
      "cell_type": "code",
      "metadata": {
        "colab": {
          "base_uri": "https://localhost:8080/"
        },
        "id": "oV0I3IiBNNtA",
        "outputId": "2b058902-a045-4a1c-8426-d8a95e7dc200"
      },
      "source": [
        "model.fit_generator(\n",
        "    train_gen,\n",
        "    epochs=15,\n",
        "    validation_data=train_gen,\n",
        "    callbacks=[early_stop])"
      ],
      "execution_count": 50,
      "outputs": [
        {
          "output_type": "stream",
          "text": [
            "/usr/local/lib/python3.7/dist-packages/tensorflow/python/keras/engine/training.py:1940: UserWarning: `Model.fit_generator` is deprecated and will be removed in a future version. Please use `Model.fit`, which supports generators.\n",
            "  warnings.warn('`Model.fit_generator` is deprecated and '\n"
          ],
          "name": "stderr"
        },
        {
          "output_type": "stream",
          "text": [
            "Epoch 1/15\n",
            "313/313 [==============================] - 10s 31ms/step - loss: 1.8050 - accuracy: 0.3469 - val_loss: 1.5714 - val_accuracy: 0.4248\n",
            "Epoch 2/15\n",
            "313/313 [==============================] - 10s 32ms/step - loss: 1.4834 - accuracy: 0.4741 - val_loss: 1.3343 - val_accuracy: 0.5225\n",
            "Epoch 3/15\n",
            "313/313 [==============================] - 10s 32ms/step - loss: 1.3262 - accuracy: 0.5252 - val_loss: 1.2104 - val_accuracy: 0.5711\n",
            "Epoch 4/15\n",
            "313/313 [==============================] - 9s 30ms/step - loss: 1.2165 - accuracy: 0.5637 - val_loss: 1.1229 - val_accuracy: 0.6022\n",
            "Epoch 5/15\n",
            "313/313 [==============================] - 9s 29ms/step - loss: 1.1328 - accuracy: 0.5976 - val_loss: 1.0678 - val_accuracy: 0.6221\n",
            "Epoch 6/15\n",
            "313/313 [==============================] - 9s 29ms/step - loss: 1.0468 - accuracy: 0.6300 - val_loss: 0.9358 - val_accuracy: 0.6772\n",
            "Epoch 7/15\n",
            "313/313 [==============================] - 9s 29ms/step - loss: 0.9703 - accuracy: 0.6586 - val_loss: 0.9062 - val_accuracy: 0.6771\n",
            "Epoch 8/15\n",
            "313/313 [==============================] - 9s 30ms/step - loss: 0.8983 - accuracy: 0.6829 - val_loss: 0.7833 - val_accuracy: 0.7332\n",
            "Epoch 9/15\n",
            "313/313 [==============================] - 10s 32ms/step - loss: 0.8276 - accuracy: 0.7086 - val_loss: 0.7751 - val_accuracy: 0.7286\n",
            "Epoch 10/15\n",
            "313/313 [==============================] - 10s 32ms/step - loss: 0.7654 - accuracy: 0.7304 - val_loss: 0.6808 - val_accuracy: 0.7658\n",
            "Epoch 11/15\n",
            "313/313 [==============================] - 9s 30ms/step - loss: 0.7015 - accuracy: 0.7517 - val_loss: 0.6288 - val_accuracy: 0.7925\n",
            "Epoch 12/15\n",
            "313/313 [==============================] - 9s 29ms/step - loss: 0.6389 - accuracy: 0.7803 - val_loss: 0.5675 - val_accuracy: 0.7986\n",
            "Epoch 13/15\n",
            "313/313 [==============================] - 9s 30ms/step - loss: 0.5814 - accuracy: 0.7979 - val_loss: 0.4744 - val_accuracy: 0.8442\n",
            "Epoch 14/15\n",
            "313/313 [==============================] - 9s 29ms/step - loss: 0.5289 - accuracy: 0.8179 - val_loss: 0.4374 - val_accuracy: 0.8605\n",
            "Epoch 15/15\n",
            "313/313 [==============================] - 9s 30ms/step - loss: 0.4667 - accuracy: 0.8413 - val_loss: 0.3822 - val_accuracy: 0.8734\n"
          ],
          "name": "stdout"
        },
        {
          "output_type": "execute_result",
          "data": {
            "text/plain": [
              "<tensorflow.python.keras.callbacks.History at 0x7f19a8fdc450>"
            ]
          },
          "metadata": {
            "tags": []
          },
          "execution_count": 50
        }
      ]
    },
    {
      "cell_type": "code",
      "metadata": {
        "colab": {
          "base_uri": "https://localhost:8080/",
          "height": 511
        },
        "id": "z1SiRz_RNhRw",
        "outputId": "9a3a78c8-e689-4cf2-cb6f-31027d28a6e5"
      },
      "source": [
        "metrics = pd.DataFrame(model.history.history)\n",
        "metrics"
      ],
      "execution_count": 53,
      "outputs": [
        {
          "output_type": "execute_result",
          "data": {
            "text/html": [
              "<div>\n",
              "<style scoped>\n",
              "    .dataframe tbody tr th:only-of-type {\n",
              "        vertical-align: middle;\n",
              "    }\n",
              "\n",
              "    .dataframe tbody tr th {\n",
              "        vertical-align: top;\n",
              "    }\n",
              "\n",
              "    .dataframe thead th {\n",
              "        text-align: right;\n",
              "    }\n",
              "</style>\n",
              "<table border=\"1\" class=\"dataframe\">\n",
              "  <thead>\n",
              "    <tr style=\"text-align: right;\">\n",
              "      <th></th>\n",
              "      <th>loss</th>\n",
              "      <th>accuracy</th>\n",
              "      <th>val_loss</th>\n",
              "      <th>val_accuracy</th>\n",
              "    </tr>\n",
              "  </thead>\n",
              "  <tbody>\n",
              "    <tr>\n",
              "      <th>0</th>\n",
              "      <td>1.805025</td>\n",
              "      <td>0.3469</td>\n",
              "      <td>1.571356</td>\n",
              "      <td>0.4248</td>\n",
              "    </tr>\n",
              "    <tr>\n",
              "      <th>1</th>\n",
              "      <td>1.483397</td>\n",
              "      <td>0.4741</td>\n",
              "      <td>1.334289</td>\n",
              "      <td>0.5225</td>\n",
              "    </tr>\n",
              "    <tr>\n",
              "      <th>2</th>\n",
              "      <td>1.326214</td>\n",
              "      <td>0.5252</td>\n",
              "      <td>1.210426</td>\n",
              "      <td>0.5711</td>\n",
              "    </tr>\n",
              "    <tr>\n",
              "      <th>3</th>\n",
              "      <td>1.216496</td>\n",
              "      <td>0.5637</td>\n",
              "      <td>1.122947</td>\n",
              "      <td>0.6022</td>\n",
              "    </tr>\n",
              "    <tr>\n",
              "      <th>4</th>\n",
              "      <td>1.132837</td>\n",
              "      <td>0.5976</td>\n",
              "      <td>1.067805</td>\n",
              "      <td>0.6221</td>\n",
              "    </tr>\n",
              "    <tr>\n",
              "      <th>5</th>\n",
              "      <td>1.046787</td>\n",
              "      <td>0.6300</td>\n",
              "      <td>0.935811</td>\n",
              "      <td>0.6772</td>\n",
              "    </tr>\n",
              "    <tr>\n",
              "      <th>6</th>\n",
              "      <td>0.970269</td>\n",
              "      <td>0.6586</td>\n",
              "      <td>0.906246</td>\n",
              "      <td>0.6771</td>\n",
              "    </tr>\n",
              "    <tr>\n",
              "      <th>7</th>\n",
              "      <td>0.898349</td>\n",
              "      <td>0.6829</td>\n",
              "      <td>0.783292</td>\n",
              "      <td>0.7332</td>\n",
              "    </tr>\n",
              "    <tr>\n",
              "      <th>8</th>\n",
              "      <td>0.827621</td>\n",
              "      <td>0.7086</td>\n",
              "      <td>0.775143</td>\n",
              "      <td>0.7286</td>\n",
              "    </tr>\n",
              "    <tr>\n",
              "      <th>9</th>\n",
              "      <td>0.765398</td>\n",
              "      <td>0.7304</td>\n",
              "      <td>0.680807</td>\n",
              "      <td>0.7658</td>\n",
              "    </tr>\n",
              "    <tr>\n",
              "      <th>10</th>\n",
              "      <td>0.701511</td>\n",
              "      <td>0.7517</td>\n",
              "      <td>0.628757</td>\n",
              "      <td>0.7925</td>\n",
              "    </tr>\n",
              "    <tr>\n",
              "      <th>11</th>\n",
              "      <td>0.638933</td>\n",
              "      <td>0.7803</td>\n",
              "      <td>0.567517</td>\n",
              "      <td>0.7986</td>\n",
              "    </tr>\n",
              "    <tr>\n",
              "      <th>12</th>\n",
              "      <td>0.581417</td>\n",
              "      <td>0.7979</td>\n",
              "      <td>0.474374</td>\n",
              "      <td>0.8442</td>\n",
              "    </tr>\n",
              "    <tr>\n",
              "      <th>13</th>\n",
              "      <td>0.528880</td>\n",
              "      <td>0.8179</td>\n",
              "      <td>0.437396</td>\n",
              "      <td>0.8605</td>\n",
              "    </tr>\n",
              "    <tr>\n",
              "      <th>14</th>\n",
              "      <td>0.466697</td>\n",
              "      <td>0.8413</td>\n",
              "      <td>0.382205</td>\n",
              "      <td>0.8734</td>\n",
              "    </tr>\n",
              "  </tbody>\n",
              "</table>\n",
              "</div>"
            ],
            "text/plain": [
              "        loss  accuracy  val_loss  val_accuracy\n",
              "0   1.805025    0.3469  1.571356        0.4248\n",
              "1   1.483397    0.4741  1.334289        0.5225\n",
              "2   1.326214    0.5252  1.210426        0.5711\n",
              "3   1.216496    0.5637  1.122947        0.6022\n",
              "4   1.132837    0.5976  1.067805        0.6221\n",
              "5   1.046787    0.6300  0.935811        0.6772\n",
              "6   0.970269    0.6586  0.906246        0.6771\n",
              "7   0.898349    0.6829  0.783292        0.7332\n",
              "8   0.827621    0.7086  0.775143        0.7286\n",
              "9   0.765398    0.7304  0.680807        0.7658\n",
              "10  0.701511    0.7517  0.628757        0.7925\n",
              "11  0.638933    0.7803  0.567517        0.7986\n",
              "12  0.581417    0.7979  0.474374        0.8442\n",
              "13  0.528880    0.8179  0.437396        0.8605\n",
              "14  0.466697    0.8413  0.382205        0.8734"
            ]
          },
          "metadata": {
            "tags": []
          },
          "execution_count": 53
        }
      ]
    },
    {
      "cell_type": "code",
      "metadata": {
        "colab": {
          "base_uri": "https://localhost:8080/",
          "height": 282
        },
        "id": "jUjOiy3QQHI2",
        "outputId": "d3fc081c-d9b5-4675-d69e-4dce203a82ad"
      },
      "source": [
        "metrics[['accuracy','val_accuracy']].plot()"
      ],
      "execution_count": 54,
      "outputs": [
        {
          "output_type": "execute_result",
          "data": {
            "text/plain": [
              "<matplotlib.axes._subplots.AxesSubplot at 0x7f19a8d1c910>"
            ]
          },
          "metadata": {
            "tags": []
          },
          "execution_count": 54
        },
        {
          "output_type": "display_data",
          "data": {
            "image/png": "[encoded data removed]",
            "text/plain": [
              "<Figure size 432x288 with 1 Axes>"
            ]
          },
          "metadata": {
            "tags": [],
            "needs_background": "light"
          }
        }
      ]
    },
    {
      "cell_type": "code",
      "metadata": {
        "colab": {
          "base_uri": "https://localhost:8080/",
          "height": 282
        },
        "id": "PBPKjf4MQHGu",
        "outputId": "35121108-3277-4330-b0d2-c20911531621"
      },
      "source": [
        "metrics[['loss','val_loss']].plot()"
      ],
      "execution_count": 55,
      "outputs": [
        {
          "output_type": "execute_result",
          "data": {
            "text/plain": [
              "<matplotlib.axes._subplots.AxesSubplot at 0x7f19a8c9fb90>"
            ]
          },
          "metadata": {
            "tags": []
          },
          "execution_count": 55
        },
        {
          "output_type": "display_data",
          "data": {
            "image/png": "[encoded data removed]",
            "text/plain": [
              "<Figure size 432x288 with 1 Axes>"
            ]
          },
          "metadata": {
            "tags": [],
            "needs_background": "light"
          }
        }
      ]
    },
    {
      "cell_type": "markdown",
      "metadata": {
        "id": "v6QiyPeUQQXp"
      },
      "source": [
        "### Testing our model"
      ]
    },
    {
      "cell_type": "code",
      "metadata": {
        "colab": {
          "base_uri": "https://localhost:8080/",
          "height": 283
        },
        "id": "BoflKfEJQHCv",
        "outputId": "c4842360-9dfe-4a6d-c83b-5ba635af5bf3"
      },
      "source": [
        "plt.imshow(x_test[16])"
      ],
      "execution_count": 56,
      "outputs": [
        {
          "output_type": "execute_result",
          "data": {
            "text/plain": [
              "<matplotlib.image.AxesImage at 0x7f19a8bdc3d0>"
            ]
          },
          "metadata": {
            "tags": []
          },
          "execution_count": 56
        },
        {
          "output_type": "display_data",
          "data": {
            "image/png": "[encoded data removed]",
            "text/plain": [
              "<Figure size 432x288 with 1 Axes>"
            ]
          },
          "metadata": {
            "tags": [],
            "needs_background": "light"
          }
        }
      ]
    },
    {
      "cell_type": "code",
      "metadata": {
        "colab": {
          "base_uri": "https://localhost:8080/"
        },
        "id": "96aXoLb0QHAX",
        "outputId": "9c5c2acd-1e31-49f1-da52-4b04bccad12e"
      },
      "source": [
        "model.predict_classes(x_test[16].reshape(1,32,32,3))"
      ],
      "execution_count": 57,
      "outputs": [
        {
          "output_type": "stream",
          "text": [
            "/usr/local/lib/python3.7/dist-packages/tensorflow/python/keras/engine/sequential.py:455: UserWarning: `model.predict_classes()` is deprecated and will be removed after 2021-01-01. Please use instead:* `np.argmax(model.predict(x), axis=-1)`,   if your model does multi-class classification   (e.g. if it uses a `softmax` last-layer activation).* `(model.predict(x) > 0.5).astype(\"int32\")`,   if your model does binary classification   (e.g. if it uses a `sigmoid` last-layer activation).\n",
            "  warnings.warn('`model.predict_classes()` is deprecated and '\n"
          ],
          "name": "stderr"
        },
        {
          "output_type": "execute_result",
          "data": {
            "text/plain": [
              "array([5])"
            ]
          },
          "metadata": {
            "tags": []
          },
          "execution_count": 57
        }
      ]
    },
    {
      "cell_type": "code",
      "metadata": {
        "colab": {
          "base_uri": "https://localhost:8080/"
        },
        "id": "2Sk0UNJfQggB",
        "outputId": "6b525086-985f-4a96-f515-8caab5948bdf"
      },
      "source": [
        "np.argmax(y_test[16])"
      ],
      "execution_count": 59,
      "outputs": [
        {
          "output_type": "execute_result",
          "data": {
            "text/plain": [
              "5"
            ]
          },
          "metadata": {
            "tags": []
          },
          "execution_count": 59
        }
      ]
    },
    {
      "cell_type": "markdown",
      "metadata": {
        "id": "xXlqNd6LaR4L"
      },
      "source": [
        "### Plotting the model"
      ]
    },
    {
      "cell_type": "code",
      "metadata": {
        "colab": {
          "base_uri": "https://localhost:8080/",
          "height": 758
        },
        "id": "Gg04BaHyaVew",
        "outputId": "76a5007c-8e3c-40f2-bb6a-cfad3613b267"
      },
      "source": [
        "tf.keras.utils.plot_model(\n",
        "    model,\n",
        "    to_file=\"model.png\",\n",
        ")"
      ],
      "execution_count": 60,
      "outputs": [
        {
          "output_type": "execute_result",
          "data": {
            "image/png": "[encoded data removed]",
            "text/plain": [
              "<IPython.core.display.Image object>"
            ]
          },
          "metadata": {
            "tags": []
          },
          "execution_count": 60
        }
      ]
    },
    {
      "cell_type": "code",
      "metadata": {
        "id": "chQ5X0EDa3ou"
      },
      "source": [
        ""
      ],
      "execution_count": null,
      "outputs": []
    }
  ]
}