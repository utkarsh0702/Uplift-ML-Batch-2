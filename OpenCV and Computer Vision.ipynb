{
 "cells": [
  {
   "cell_type": "code",
   "execution_count": 1,
   "id": "cc5e2ccb",
   "metadata": {},
   "outputs": [],
   "source": [
    "import cv2\n",
    "import urllib\n",
    "import numpy as np"
   ]
  },
  {
   "cell_type": "markdown",
   "id": "74e7f935",
   "metadata": {},
   "source": [
    "## Internet Image"
   ]
  },
  {
   "cell_type": "code",
   "execution_count": 5,
   "id": "94f9bbd1",
   "metadata": {},
   "outputs": [],
   "source": [
    "req = urllib.request.urlopen('https://www.teachwire.net/uploads/news/iStock-910174036.jpg')\n",
    "arr = np.array(bytearray(req.read()), dtype=np.uint8)\n",
    "img = cv2.imdecode(arr, -1)\n",
    "cv2.imshow(\"Output\", img)\n",
    "cv2.waitKey(0)\n",
    "cv2.destroyAllWindows()"
   ]
  },
  {
   "cell_type": "code",
   "execution_count": 6,
   "id": "00b09537",
   "metadata": {},
   "outputs": [
    {
     "data": {
      "text/plain": [
       "(836, 1254, 3)"
      ]
     },
     "execution_count": 6,
     "metadata": {},
     "output_type": "execute_result"
    }
   ],
   "source": [
    "img.shape"
   ]
  },
  {
   "cell_type": "markdown",
   "id": "90a16a2c",
   "metadata": {},
   "source": [
    "## Adding a circle, line, rectangle and text on image"
   ]
  },
  {
   "cell_type": "code",
   "execution_count": 17,
   "id": "4375d2bb",
   "metadata": {},
   "outputs": [],
   "source": [
    "# rectangle\n",
    "cv2.rectangle(img, (0,0), (200, 200), (255,0,0), 7)\n",
    "# line\n",
    "cv2.line(img, (0,0), (300,300), (0,0,255), 3)\n",
    "#circle\n",
    "cv2.circle(img, (200, 200), 100, (0, 255, 0), 5)\n",
    "# text\n",
    "font = cv2.FONT_HERSHEY_DUPLEX\n",
    "cv2.putText(img, \"Utkarsh\", (500, 600), font, 5, (255, 255, 255), 3)\n",
    "cv2.imshow(\"Output\", img)\n",
    "cv2.waitKey(0)\n",
    "cv2.destroyAllWindows()"
   ]
  },
  {
   "cell_type": "markdown",
   "id": "5005d7b7",
   "metadata": {},
   "source": [
    "## Video Feed"
   ]
  },
  {
   "cell_type": "code",
   "execution_count": 19,
   "id": "b28e2943",
   "metadata": {},
   "outputs": [],
   "source": [
    "cap = cv2.VideoCapture(\"Vechile.mp4\")\n",
    "ret, frame = cap.read()\n",
    "while ret:\n",
    "    cv2.imshow(\"Output\", frame)\n",
    "    if cv2.waitKey(1) & 0xFF == ord('q'):\n",
    "        break\n",
    "    ret, frame = cap.read()\n",
    "cap.release()\n",
    "cv2.destroyAllWindows()"
   ]
  },
  {
   "cell_type": "code",
   "execution_count": 21,
   "id": "3ef1488f",
   "metadata": {},
   "outputs": [],
   "source": [
    "# grey scale mode video\n",
    "cap = cv2.VideoCapture(\"Vechile.mp4\")\n",
    "ret, frame = cap.read()\n",
    "while ret:\n",
    "    grey = cv2.cvtColor(frame, cv2.COLOR_BGR2GRAY)\n",
    "    cv2.imshow(\"Output\", frame)\n",
    "    cv2.imshow(\"Grey Output\", grey)\n",
    "    if cv2.waitKey(1) & 0xFF == ord('q'):\n",
    "        break\n",
    "    ret, frame = cap.read()\n",
    "cap.release()\n",
    "cv2.destroyAllWindows()"
   ]
  },
  {
   "cell_type": "markdown",
   "id": "2bf62de5",
   "metadata": {},
   "source": [
    "## ROI of Image"
   ]
  },
  {
   "cell_type": "code",
   "execution_count": 29,
   "id": "fa57e667",
   "metadata": {},
   "outputs": [],
   "source": [
    "roi = img[200:400, 250:400]\n",
    "img[0:200, 0:150] = roi\n",
    "cv2.imshow(\"Output\", img)\n",
    "cv2.waitKey(0)\n",
    "cv2.destroyAllWindows()"
   ]
  },
  {
   "cell_type": "code",
   "execution_count": 28,
   "id": "c0a53850",
   "metadata": {},
   "outputs": [],
   "source": [
    "# Resizing an image\n",
    "img1 = cv2.resize(img, (627, 418), interpolation= cv2.INTER_CUBIC)\n",
    "cv2.imshow(\"Output\", img1)\n",
    "cv2.waitKey(0)\n",
    "cv2.destroyAllWindows()"
   ]
  },
  {
   "cell_type": "markdown",
   "id": "56e24972",
   "metadata": {},
   "source": [
    "## Thresholding"
   ]
  },
  {
   "cell_type": "code",
   "execution_count": 30,
   "id": "18b549fe",
   "metadata": {},
   "outputs": [],
   "source": [
    "# colored image\n",
    "ret, thresh =  cv2. threshold(img, 50, 255, cv2.THRESH_BINARY)\n",
    "cv2.imshow(\"Output\", thresh)\n",
    "cv2.waitKey(0)\n",
    "cv2.destroyAllWindows()"
   ]
  },
  {
   "cell_type": "code",
   "execution_count": 34,
   "id": "e1b08ab4",
   "metadata": {},
   "outputs": [],
   "source": [
    "# grey image\n",
    "img1 = cv2.cvtColor(img, cv2.COLOR_BGR2GRAY)\n",
    "ret, thresh =  cv2. threshold(img1, 50, 255, cv2.THRESH_BINARY)\n",
    "cv2.imshow(\"Output\", thresh)\n",
    "cv2.waitKey(0)\n",
    "cv2.destroyAllWindows()"
   ]
  },
  {
   "cell_type": "markdown",
   "id": "47a96444",
   "metadata": {},
   "source": [
    "## Edge Detection"
   ]
  },
  {
   "cell_type": "code",
   "execution_count": 33,
   "id": "e1a7e130",
   "metadata": {},
   "outputs": [],
   "source": [
    "cap = cv2.VideoCapture(\"Vechile.mp4\")\n",
    "ret, frame = cap.read()\n",
    "while ret:\n",
    "    canny = cv2.Canny(frame, 50, 150)\n",
    "    cv2.imshow(\"Output\", frame)\n",
    "    cv2.imshow(\"Canny Output\", canny)\n",
    "    if cv2.waitKey(1) & 0xFF == ord('q'):\n",
    "        break\n",
    "    ret, frame = cap.read()\n",
    "cap.release()\n",
    "cv2.destroyAllWindows()"
   ]
  },
  {
   "cell_type": "markdown",
   "id": "f034f6ce",
   "metadata": {},
   "source": [
    "# Motion Detection"
   ]
  },
  {
   "cell_type": "code",
   "execution_count": 39,
   "id": "1ff39284",
   "metadata": {},
   "outputs": [],
   "source": [
    "cap = cv2.VideoCapture(\"Vechile.mp4\")\n",
    "ret, frame1 = cap.read()\n",
    "ret, frame2 = cap.read()\n",
    "while ret:\n",
    "    diff = cv2.absdiff(frame1, frame2)\n",
    "    grey = cv2.cvtColor(diff, cv2.COLOR_BGR2GRAY)\n",
    "    blur = cv2.GaussianBlur(grey, (5,5), 0)\n",
    "    ret, thresh =  cv2. threshold(blur, 20, 255, cv2.THRESH_BINARY)\n",
    "    cv2.imshow(\"Output\", frame)\n",
    "    cv2.imshow(\"Motion Output\", thresh)\n",
    "    if cv2.waitKey(1) & 0xFF == ord('q'):\n",
    "        break\n",
    "    frame1 = frame2\n",
    "    ret, frame2 = cap.read()\n",
    "cap.release()\n",
    "cv2.destroyAllWindows()"
   ]
  },
  {
   "cell_type": "markdown",
   "id": "b524ad68",
   "metadata": {},
   "source": [
    "# Bluring"
   ]
  },
  {
   "cell_type": "code",
   "execution_count": 42,
   "id": "bf3e8d32",
   "metadata": {},
   "outputs": [],
   "source": [
    "blur = cv2.GaussianBlur(img, (9,9), 0)\n",
    "cv2.imshow(\"Output\", blur)\n",
    "cv2.waitKey(0)\n",
    "cv2.destroyAllWindows()"
   ]
  },
  {
   "cell_type": "code",
   "execution_count": 43,
   "id": "ee6b1c01",
   "metadata": {},
   "outputs": [],
   "source": [
    "cap = cv2.VideoCapture(\"Vechile.mp4\")\n",
    "ret, frame = cap.read()\n",
    "while ret:\n",
    "    blur = cv2.GaussianBlur(frame, (9,9), 0)\n",
    "    cv2.imshow(\"Output\", frame)\n",
    "    cv2.imshow(\"Blur Output\", blur)\n",
    "    if cv2.waitKey(1) & 0xFF == ord('q'):\n",
    "        break\n",
    "    ret, frame = cap.read()\n",
    "cap.release()\n",
    "cv2.destroyAllWindows()"
   ]
  },
  {
   "cell_type": "code",
   "execution_count": null,
   "id": "457cb5ad",
   "metadata": {},
   "outputs": [],
   "source": []
  }
 ],
 "metadata": {
  "kernelspec": {
   "display_name": "Python 3",
   "language": "python",
   "name": "python3"
  },
  "language_info": {
   "codemirror_mode": {
    "name": "ipython",
    "version": 3
   },
   "file_extension": ".py",
   "mimetype": "text/x-python",
   "name": "python",
   "nbconvert_exporter": "python",
   "pygments_lexer": "ipython3",
   "version": "3.8.8"
  }
 },
 "nbformat": 4,
 "nbformat_minor": 5
}
